{
 "cells": [
  {
   "cell_type": "code",
   "execution_count": null,
   "metadata": {},
   "outputs": [],
   "source": [
    "import numpy as np\n",
    "import pandas as pd\n",
    "import tensorflow as tf\n",
    "\n",
    "%matplotlib inline\n",
    "import matplotlib.pyplot as plt"
   ]
  },
  {
   "cell_type": "code",
   "execution_count": null,
   "metadata": {},
   "outputs": [],
   "source": [
    "from model import generate_data, RNNInput, RNNModelConfig, RNNModel, train_model, evaluate_model, baseline_mse"
   ]
  },
  {
   "cell_type": "code",
   "execution_count": null,
   "metadata": {},
   "outputs": [],
   "source": [
    "# Choose the hyperparameters\n",
    "config = RNNModelConfig(learning_rate=0.0005, keep_probability=1, \n",
    "                        identity_init=True, max_grad_norm=100, \n",
    "                        state_size=75, batch_size=32)\n",
    "config"
   ]
  },
  {
   "cell_type": "code",
   "execution_count": null,
   "metadata": {},
   "outputs": [],
   "source": [
    "# Parameters for generating data\n",
    "train_size = 100000\n",
    "test_size = 10000\n",
    "value_low = -100\n",
    "value_high = 100\n",
    "min_length = 1\n",
    "max_length = 10"
   ]
  },
  {
   "cell_type": "code",
   "execution_count": null,
   "metadata": {},
   "outputs": [],
   "source": [
    "# Generate data\n",
    "np.random.seed(1)\n",
    "train_df = generate_data(size=train_size, value_low=value_low, value_high=value_high, \n",
    "                         min_length=min_length, max_length=max_length)\n"
   ]
  },
  {
   "cell_type": "code",
   "execution_count": null,
   "metadata": {
    "scrolled": true
   },
   "outputs": [],
   "source": [
    "# Examine the generated data\n",
    "train_df"
   ]
  },
  {
   "cell_type": "code",
   "execution_count": null,
   "metadata": {},
   "outputs": [],
   "source": [
    "tf.reset_default_graph()\n",
    "tf.set_random_seed(1)\n",
    "\n",
    "# Create a model\n",
    "train_input = RNNInput(train_df) \n",
    "with tf.name_scope(\"Train\"):\n",
    "    with tf.variable_scope(\"Model\", reuse=None):\n",
    "        m = RNNModel(config)\n"
   ]
  },
  {
   "cell_type": "code",
   "execution_count": null,
   "metadata": {},
   "outputs": [],
   "source": [
    "sess = tf.Session()\n",
    "sess.run(tf.global_variables_initializer())"
   ]
  },
  {
   "cell_type": "code",
   "execution_count": null,
   "metadata": {
    "scrolled": true
   },
   "outputs": [],
   "source": [
    "# Train the model\n",
    "num_epochs = 10\n",
    "train_losses = train_model(sess, m, train_input, num_epochs)\n",
    "plt.semilogy(train_losses)"
   ]
  },
  {
   "cell_type": "code",
   "execution_count": null,
   "metadata": {},
   "outputs": [],
   "source": [
    "# Create a test set\n",
    "test_df = generate_data(test_size, value_low=value_low, value_high=value_high, \n",
    "                        min_length=min_length, max_length=max_length)\n"
   ]
  },
  {
   "cell_type": "code",
   "execution_count": null,
   "metadata": {
    "scrolled": true
   },
   "outputs": [],
   "source": [
    "# Evaluate the model on the test set\n",
    "test_input = RNNInput(test_df)\n",
    "pred_loss, preds = evaluate_model(sess, m, test_input)\n",
    "\n",
    "print \"Test loss: {}\".format(pred_loss)\n",
    "\n",
    "# Compare with the baseline loss\n",
    "baseline_loss = baseline_mse(test_df['l1norm'], value_low=value_low, value_high=value_high, \n",
    "                        min_length=min_length, max_length=max_length)\n",
    "print \"Baseline loss: {}\".format(baseline_loss)"
   ]
  },
  {
   "cell_type": "code",
   "execution_count": null,
   "metadata": {},
   "outputs": [],
   "source": [
    "# Examine the predictions on the test set\n",
    "pd.DataFrame.from_records(preds, columns=['prediction', 'ground_truth'])\n"
   ]
  },
  {
   "cell_type": "code",
   "execution_count": null,
   "metadata": {},
   "outputs": [],
   "source": [
    "sess.close()"
   ]
  }
 ],
 "metadata": {
  "kernelspec": {
   "display_name": "Python 2",
   "language": "python",
   "name": "python2"
  },
  "language_info": {
   "codemirror_mode": {
    "name": "ipython",
    "version": 2
   },
   "file_extension": ".py",
   "mimetype": "text/x-python",
   "name": "python",
   "nbconvert_exporter": "python",
   "pygments_lexer": "ipython2",
   "version": "2.7.12"
  }
 },
 "nbformat": 4,
 "nbformat_minor": 2
}
